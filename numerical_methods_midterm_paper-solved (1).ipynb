{
 "cells": [
  {
   "cell_type": "markdown",
   "id": "617b2a28",
   "metadata": {},
   "source": [
    "# Numerical Methods Mid term Paper \n",
    "\n",
    "## Total Marks : 25"
   ]
  },
  {
   "cell_type": "markdown",
   "id": "9df30db7",
   "metadata": {},
   "source": [
    "# Question #1 \n",
    "\n",
    "Convert the following algorithms into python by using functions and then solve the following problem\n",
    "\n",
    "Find the roots of the following equation\n",
    "\n",
    "$2x^2 - 5x + 3 = 0$  analytical roots are $x = 1.5,1$"
   ]
  },
  {
   "cell_type": "markdown",
   "id": "6fc01e0b",
   "metadata": {},
   "source": [
    "## Algorithm 1 (Secant Method)\n",
    "\n",
    "1. Input two values for $x_1$ and $x_2$\n",
    "2. Calculate $x_{new} = x_2 - \\frac{x_2-x_1}{f(x_2)-f(x_1)}f(x_2)$\n",
    "3. If $|x_{new} - x_2| < tolerance$ , output $x_{new}$ the root and stop\n",
    "4. If number of iterations reaches the maximum, stop.\n",
    "5. Else let $x_1=x_2$ and $x_2=x_{new}$\n",
    "6. Repeat the steps from 2"
   ]
  },
  {
   "cell_type": "markdown",
   "id": "e3f9d388",
   "metadata": {},
   "source": [
    "## Algorithm 2 (Newton's Methd)\n",
    "\n",
    "\n",
    "1. Find $f'(x)$ and define newton's raphson equation\n",
    "2. Guess an initial value of x for the first iteration\n",
    "3. substitute x in the NR equation and calculate $x^*$\n",
    "4. if $|x^*-x|<tolerance$, stop iterations and output the root: $x^*$\n",
    "5. if the number of interations reaches an assumed maximum, stop.\n",
    "6. else let $x=x^*$ and repeat the steps from 3 until a condition in 4 or 5 is satisfied."
   ]
  },
  {
   "cell_type": "markdown",
   "id": "f2e7376a",
   "metadata": {},
   "source": [
    "# Question # 2\n",
    "\n",
    "Plot the first derivative of the following function over $[-1,1]$ by using the forward, backward and central differences.\n",
    "\n",
    "Compare the plots with the theoretical one at $h = 0.1, 0.01$ and $0.001$\n",
    "\n",
    "$f(x) = 0.1x^5 - 0.2x^3 + 0.1x - 0.2$\n",
    "\n",
    "Theoretical :\n",
    "\n",
    "$f'(x) = 0.5x^4 - 0.6x^2 + 0.1$\n",
    "\n",
    "**Formulas are given for reference**\n",
    "\n",
    "**FORWARD FINITE DIFFERENCES**\n",
    "\n",
    "$f'(x) = \\frac{f(x_{i+1})-f(x_i)}{h}$\n",
    "\n",
    "$f''(x) = \\frac{f(x_{i+2})-2f(x_{i+1})+f(x_i)}{h^2}$\n",
    "\n",
    "**BACKWARD FINITE DIFFERENCES**\n",
    "\n",
    "$f'(x) = \\frac{f(x_{i}-f(x_i))}{h}$\n",
    "\n",
    "$f''(x) = \\frac{f(x_{i})-2f(x_{i-1})+f(x_{i-2})}{h^2}$\n",
    "\n",
    "**CENTRAL FINITE DIFFERENCES**\n",
    "\n",
    "$f'(x) = \\frac{f(x_{i+1})-f(x_{i-1})}{2h}$\n",
    "\n",
    "$f''(x) = \\frac{f(x_{i+1})-2f(x_i)+f(x_{i-1})}{h^2}$\n"
   ]
  },
  {
   "cell_type": "code",
   "execution_count": 13,
   "id": "533ffbc6",
   "metadata": {},
   "outputs": [],
   "source": [
    "import numpy as np\n",
    "import matplotlib.pyplot"
   ]
  },
  {
   "cell_type": "code",
   "execution_count": 7,
   "id": "a481ed9b",
   "metadata": {},
   "outputs": [
    {
     "name": "stdout",
     "output_type": "stream",
     "text": [
      "enter value of x1:1.5\n",
      "enter value of x2:1\n"
     ]
    }
   ],
   "source": [
    "x1 = float(input('enter value of x1:'))\n",
    "x2 = float(input('enter value of x2:'))"
   ]
  },
  {
   "cell_type": "code",
   "execution_count": null,
   "id": "8f1a0c6c",
   "metadata": {},
   "outputs": [],
   "source": []
  },
  {
   "cell_type": "code",
   "execution_count": null,
   "id": "1d8f5dc5",
   "metadata": {},
   "outputs": [],
   "source": []
  },
  {
   "cell_type": "code",
   "execution_count": 1,
   "id": "10c94f18",
   "metadata": {},
   "outputs": [
    {
     "name": "stdout",
     "output_type": "stream",
     "text": [
      "enter x1: 4\n",
      "enter x2: 3\n",
      "Root = 1.500000 at 8 iterations\n"
     ]
    }
   ],
   "source": [
    "\n",
    "from math import sin\n",
    "def secant(fn,x1,x2,tol,maxiter):\n",
    "    for i in range(maxiter):\n",
    "        xnew  = x2 - (x2-x1)/(fn(x2)-fn(x1))*fn(x2)\n",
    "        if abs(xnew-x2) < tol:\n",
    "            break\n",
    "        else:\n",
    "            x1 = x2\n",
    "            x2 = xnew\n",
    "    else:\n",
    "        print('warning: Maximum number of iterations is reached')\n",
    "    return xnew, i\n",
    "\n",
    "f = lambda x: 2*x**2 - 5*x + 3 \n",
    "\n",
    "x1 = float(input('enter x1: '))\n",
    "x2 = float(input('enter x2: '))\n",
    "\n",
    "r, n = secant(f,x1,x2,1.0e-6,100)\n",
    "\n",
    "print('Root = %f at %d iterations'%(r,n))"
   ]
  },
  {
   "cell_type": "code",
   "execution_count": null,
   "id": "1489de0f",
   "metadata": {},
   "outputs": [],
   "source": []
  },
  {
   "cell_type": "code",
   "execution_count": 6,
   "id": "193ecfdf",
   "metadata": {},
   "outputs": [
    {
     "name": "stdout",
     "output_type": "stream",
     "text": [
      "the root is 1.500 at 4 iterations.\n"
     ]
    }
   ],
   "source": [
    "from math import sin\n",
    "def newton(fn,dfn,x,tol,maxiter):\n",
    "    for i in range(maxiter):\n",
    "        xnew = x - fn(x)/dfn(x)\n",
    "        if abs(xnew-x)<tol:                          \n",
    "            break\n",
    "        x = xnew\n",
    "    return xnew, i\n",
    "\n",
    "y = lambda x: 2*x**2 - 5*x + 3 \n",
    "dy = lambda x : 4*x - 5\n",
    "\n",
    "x, n = newton(y, dy, 1.8, 0.0001, 100)\n",
    "print('the root is %.3f at %d iterations.'%(x,n))"
   ]
  },
  {
   "cell_type": "code",
   "execution_count": 2,
   "id": "4a302a41",
   "metadata": {},
   "outputs": [
    {
     "data": {
      "image/png": "[encoded data removed]",
      "text/plain": [
       "<Figure size 432x288 with 1 Axes>"
      ]
     },
     "metadata": {
      "needs_background": "light"
     },
     "output_type": "display_data"
    }
   ],
   "source": [
    "import numpy as np\n",
    "import matplotlib.pyplot as plt\n",
    "f=lambda x: 0.1*x**5 - 0.2*x*3 + 0.1*x - 0.2\n",
    "\n",
    "h = 0.01\n",
    "#will create an array of elements between -1 and 1 having 50 equal\n",
    "x = np.linspace(-1,1,50)\n",
    "# central diffrences \n",
    "\n",
    "\n",
    "dff1 = (f(x+h)-f(x-h))/(2*h)\n",
    "dff2 = (f(x+h)-2*f(x)+f(x-h))/h**2\n",
    "#plot\n",
    "plt.plot(x,f(x),'--k',x,dff1,'-b',x,dff2,'-.r')\n",
    "plt.xlabel('x')\n",
    "plt.ylabel('y')\n",
    "plt.legend([\"f(x)\",\"f'(x)\",\"f''(x)\"])\n",
    "plt.grid()"
   ]
  },
  {
   "cell_type": "code",
   "execution_count": 17,
   "id": "87a842b7",
   "metadata": {},
   "outputs": [
    {
     "name": "stdout",
     "output_type": "stream",
     "text": [
      "\t f'(x)\t\t err\t\t f''(x)\t\t err\n",
      "FFD\t-0.499690\t-0.593740\t 0.018000\t 0.136000\n",
      "BFD\t-0.499990\t-0.594040\t 0.000000\t 0.118000\n",
      "CFD\t-0.499840\t-0.593890\t 0.003000\t 0.121000\n"
     ]
    }
   ],
   "source": [
    "import numpy as np\n",
    "f = lambda x: 0.1*x**5 - 0.2*x*3 + 0.1*x -0.2\n",
    "\n",
    "x = 0.1\n",
    "h = 0.1\n",
    "\n",
    "df1 = 0.09405\n",
    "df2 = -0.118\n",
    "\n",
    "\n",
    "print(\"\\t f'(x)\\t\\t err\\t\\t f''(x)\\t\\t err\")\n",
    "\n",
    "# forward difference\n",
    "\n",
    "dff1 = (f(x+h)  -  f(x))/h\n",
    "dff2 = (f(x+2*h) - 2*f(x+h) + f(x))/h**2\n",
    "print(\"FFD\\t% f\\t% f\\t% f\\t% f\"%(dff1,dff1-df1,dff2,dff2-df2))\n",
    "\n",
    "# backward difference\n",
    "\n",
    "dff1 = (f(x) - f(x-h))/h\n",
    "dff2 = (f(x) - 2*f(x-h) + f(x-2*h) )/h**2\n",
    "print(\"BFD\\t% f\\t% f\\t% f\\t% f\"%(dff1,dff1-df1,dff2,dff2-df2))\n",
    "\n",
    "#  central differences\n",
    "\n",
    "dff1 = (f(x+h) - f(x-h))/(2*h)\n",
    "dff2 = (f(x+h) -  2*f(x) + f(x-h))/h**2\n",
    "print(\"CFD\\t% f\\t% f\\t% f\\t% f\"%(dff1,dff1-df1,dff2,dff2-df2))"
   ]
  },
  {
   "cell_type": "code",
   "execution_count": null,
   "id": "a8c1ca7f",
   "metadata": {},
   "outputs": [],
   "source": []
  },
  {
   "cell_type": "code",
   "execution_count": null,
   "id": "12e34480",
   "metadata": {},
   "outputs": [],
   "source": []
  }
 ],
 "metadata": {
  "kernelspec": {
   "display_name": "Python 3",
   "language": "python",
   "name": "python3"
  },
  "language_info": {
   "codemirror_mode": {
    "name": "ipython",
    "version": 3
   },
   "file_extension": ".py",
   "mimetype": "text/x-python",
   "name": "python",
   "nbconvert_exporter": "python",
   "pygments_lexer": "ipython3",
   "version": "3.8.8"
  }
 },
 "nbformat": 4,
 "nbformat_minor": 5
}
